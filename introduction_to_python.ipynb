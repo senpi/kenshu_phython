{
  "nbformat": 4,
  "nbformat_minor": 0,
  "metadata": {
    "kernelspec": {
      "display_name": "Python 3",
      "language": "python",
      "name": "python3"
    },
    "language_info": {
      "codemirror_mode": {
        "name": "ipython",
        "version": 3
      },
      "file_extension": ".py",
      "mimetype": "text/x-python",
      "name": "python",
      "nbconvert_exporter": "python",
      "pygments_lexer": "ipython3",
      "version": "3.6.8"
    },
    "colab": {
      "provenance": [],
      "collapsed_sections": [
        "bvGr8qq2UDea",
        "qyr8_ic0UDed",
        "2-DWyt9gUDeg",
        "BLMChqeGUDes",
        "D9PjUc-4UDew",
        "-mQ11pOjUDe2",
        "7Wzx0GUaUDe-",
        "S8mpS0S3UDfM",
        "xPmlgvG-UDfO",
        "FGdcTIz_UDfR",
        "XFy15qKcUDfS",
        "18x65yOmUDfZ",
        "jufUvalcUDfp",
        "uAFFvxj1UDfu"
      ],
      "toc_visible": true,
      "include_colab_link": true
    }
  },
  "cells": [
    {
      "cell_type": "markdown",
      "metadata": {
        "id": "view-in-github",
        "colab_type": "text"
      },
      "source": [
        "<a href=\"https://colab.research.google.com/github/senpi/kenshu_phython/blob/main/introduction_to_python.ipynb\" target=\"_parent\"><img src=\"https://colab.research.google.com/assets/colab-badge.svg\" alt=\"Open In Colab\"/></a>"
      ]
    },
    {
      "cell_type": "markdown",
      "metadata": {
        "id": "tVVGlRz9UDd2"
      },
      "source": [
        "# Pythonプログラミング はじめの一歩\n",
        "\n",
        "copyright 2019 DataMix Co., Ltd.\n",
        "\n",
        "### 本資料の目的\n",
        "* 初めてプログラミングを学ぶ人向けにプログラミングで使うロジックを理解する\n",
        "* Python以外でのプログラミング経験がある人がPythonでの書き方をレビューする"
      ]
    },
    {
      "cell_type": "markdown",
      "metadata": {
        "id": "bvO--BK4UDd3"
      },
      "source": [
        "## 何をともあれHello world!"
      ]
    },
    {
      "cell_type": "code",
      "metadata": {
        "scrolled": true,
        "id": "_pVGKvxPUDd3"
      },
      "source": [
        "a = \"Hello world!\"\n",
        "print(a)\n",
        "\n",
        "#文字列を結合する\n",
        "b = \"右から左へ\"\n",
        "c = \"受け流す\"\n",
        "print(b + c )"
      ],
      "execution_count": null,
      "outputs": []
    },
    {
      "cell_type": "markdown",
      "metadata": {
        "id": "xsahvUhqUDd6"
      },
      "source": [
        "### Q1: 文字列\n",
        "お隣の方の名前を変数 name に格納し、\"はじめまして! XXXXさん\"という文字列を出力してみましょう。"
      ]
    },
    {
      "cell_type": "code",
      "metadata": {
        "id": "6xGdg0xAUDd6"
      },
      "source": [
        "hello = \"はじまして！\"\n",
        "name = \"XXXXXさん\"\n",
        "print(hello + name)"
      ],
      "execution_count": null,
      "outputs": []
    },
    {
      "cell_type": "markdown",
      "metadata": {
        "id": "6dke0osjUDd9"
      },
      "source": [
        "## データを保存する仕組み\n",
        "\n",
        "ネイティブで用意されているデータを保存する仕組みは以下の通り。\n",
        "\n",
        "* 配列(リスト)\n",
        "* 辞書型(Dict)\n",
        "* 集合型(Set)\n",
        "* 2次元配列"
      ]
    },
    {
      "cell_type": "markdown",
      "metadata": {
        "id": "TAy1B_TfUDd-"
      },
      "source": [
        "### 配列\n",
        "配列は数字や文字を並べたもの"
      ]
    },
    {
      "cell_type": "code",
      "metadata": {
        "id": "x6wEzR7dUDd-"
      },
      "source": [
        "x1 = [1,2,3,4,5,6,7,8,9,10]\n",
        "print(x1)"
      ],
      "execution_count": null,
      "outputs": []
    },
    {
      "cell_type": "markdown",
      "metadata": {
        "id": "eLo2URXuUDeA"
      },
      "source": [
        "要素へのアクセスは番号(インデックス)で行う"
      ]
    },
    {
      "cell_type": "code",
      "metadata": {
        "id": "R8Qt_wH5UDeB"
      },
      "source": [
        "print(\"0番目の要素: \", x1[0])\n",
        "print(\"1番目の要素: \", x1[1])\n",
        "print(\"2番目の要素: \", x1[2])"
      ],
      "execution_count": null,
      "outputs": []
    },
    {
      "cell_type": "markdown",
      "metadata": {
        "id": "ljB6bJm1UDeD"
      },
      "source": [
        "配列の長さを取得する len"
      ]
    },
    {
      "cell_type": "code",
      "metadata": {
        "id": "TjbmjXCBUDeE"
      },
      "source": [
        "print(\"長さ: \", len(x1))"
      ],
      "execution_count": null,
      "outputs": []
    },
    {
      "cell_type": "markdown",
      "metadata": {
        "id": "5ZjTyzTTUDeH"
      },
      "source": [
        "配列に新しい要素を追加する"
      ]
    },
    {
      "cell_type": "code",
      "metadata": {
        "id": "MkkYM_pyUDeH"
      },
      "source": [
        "x1.append(11)\n",
        "print(x1)"
      ],
      "execution_count": null,
      "outputs": []
    },
    {
      "cell_type": "markdown",
      "metadata": {
        "id": "UGZNWLNPUDeJ"
      },
      "source": [
        "### 辞書型\n",
        "* 辞書とは{Key: Value}のペアで保存できるデータの持ち方\n",
        "* 重要なのは、keyは重複して持つことはできない"
      ]
    },
    {
      "cell_type": "code",
      "metadata": {
        "id": "FHdDMuS0UDeK"
      },
      "source": [
        "x2 = {\"apple\": \"りんご\", \"mac\": \"Macコンピュータ\", \"music\": \"音楽\", \"pay\": \"支払い\" }\n",
        "x2"
      ],
      "execution_count": null,
      "outputs": []
    },
    {
      "cell_type": "markdown",
      "metadata": {
        "id": "O6TUb6vzUDeN"
      },
      "source": [
        "要素へのアクセスはキーで行う。"
      ]
    },
    {
      "cell_type": "code",
      "metadata": {
        "id": "XDifvgSRUDeN"
      },
      "source": [
        "x2[\"apple\"]"
      ],
      "execution_count": null,
      "outputs": []
    },
    {
      "cell_type": "markdown",
      "metadata": {
        "id": "06UbU940UDeQ"
      },
      "source": [
        "keyを配列で取り出すためには、.keys()を使う"
      ]
    },
    {
      "cell_type": "code",
      "metadata": {
        "id": "SEcKpUfEUDeR"
      },
      "source": [
        "x2.keys()"
      ],
      "execution_count": null,
      "outputs": []
    },
    {
      "cell_type": "markdown",
      "metadata": {
        "id": "qmQpUlNDUDeT"
      },
      "source": [
        "Valueを配列で取り出すには、.values()を使う"
      ]
    },
    {
      "cell_type": "code",
      "metadata": {
        "id": "voWUSLknUDeU"
      },
      "source": [
        "x2.values()"
      ],
      "execution_count": null,
      "outputs": []
    },
    {
      "cell_type": "markdown",
      "metadata": {
        "id": "NkMnAgXzUDeW"
      },
      "source": [
        "keyとitemのペアを作るときは、.items()を使う"
      ]
    },
    {
      "cell_type": "code",
      "metadata": {
        "id": "MM9Rf9K1UDeW"
      },
      "source": [
        "list(x2.items())"
      ],
      "execution_count": null,
      "outputs": []
    },
    {
      "cell_type": "markdown",
      "metadata": {
        "id": "aDVpGjA0UDeY"
      },
      "source": [
        "新しいkey, valueを追加する"
      ]
    },
    {
      "cell_type": "code",
      "metadata": {
        "id": "2MldzZ7dUDeZ"
      },
      "source": [
        "x2[\"apple\"] = \"青リンゴ\"\n",
        "x2"
      ],
      "execution_count": null,
      "outputs": []
    },
    {
      "cell_type": "markdown",
      "metadata": {
        "id": "bvGr8qq2UDea"
      },
      "source": [
        "### Q2: 辞書型になれよう\n",
        "お隣の方の名前をkey, 趣味をvalueにして辞書 hobby に追加しましょう"
      ]
    },
    {
      "cell_type": "code",
      "metadata": {
        "id": "4bQ1qR3gUDeb"
      },
      "source": [
        "hobby = {\"堅田\" : \"スラックライン\",\n",
        "         \"吉岡\" : \"ボルダリング\",\n",
        "         \"村田\" : \"食べ歩き\",\n",
        "         \"三好\": \"仕事\"}\n",
        "\n",
        "#Enter your code here\n",
        "\n",
        "hobby"
      ],
      "execution_count": null,
      "outputs": []
    },
    {
      "cell_type": "markdown",
      "metadata": {
        "id": "qyr8_ic0UDed"
      },
      "source": [
        "### 集合型\n",
        "* 集合型は、1つの要素しかもてない\n",
        "* 使うとしたらリストをユニークにするときなど"
      ]
    },
    {
      "cell_type": "code",
      "metadata": {
        "id": "DlLkAqyBUDee"
      },
      "source": [
        "x3 = set([1,2,3,4])\n",
        "print(x3)\n",
        "\n",
        "x4 = [1,1, 2, 2, 3, 4]  #リスト\n",
        "x5 = set(x4)\n",
        "print(x5)\n",
        "\n",
        "#新しい要素を追加する\n",
        "x3.add(10)\n",
        "print(x3)"
      ],
      "execution_count": null,
      "outputs": []
    },
    {
      "cell_type": "markdown",
      "metadata": {
        "id": "2-DWyt9gUDeg"
      },
      "source": [
        "### 2次元配列\n",
        "* 読んで字のごとく行列のような配列"
      ]
    },
    {
      "cell_type": "code",
      "metadata": {
        "id": "adSBiF12UDeh"
      },
      "source": [
        "x6 = [\n",
        "    [1,2,3,4],\n",
        "    [5,6,7,8],\n",
        "    [9,10,11,12]\n",
        "]\n",
        "\n",
        "print(x6)"
      ],
      "execution_count": null,
      "outputs": []
    },
    {
      "cell_type": "markdown",
      "metadata": {
        "id": "4DPZLkl0UDej"
      },
      "source": [
        "1行目を取り出す"
      ]
    },
    {
      "cell_type": "code",
      "metadata": {
        "id": "ac8t6qXnUDel"
      },
      "source": [
        "x6[0]"
      ],
      "execution_count": null,
      "outputs": []
    },
    {
      "cell_type": "markdown",
      "metadata": {
        "id": "ueeT1nGcUDeq"
      },
      "source": [
        "1行目2列目を取り出す"
      ]
    },
    {
      "cell_type": "code",
      "metadata": {
        "id": "eOsc7EWdUDeq"
      },
      "source": [
        "x6[0][1]"
      ],
      "execution_count": null,
      "outputs": []
    },
    {
      "cell_type": "markdown",
      "metadata": {
        "id": "BLMChqeGUDes"
      },
      "source": [
        "### Q3: 2次元配列にアクセス\n",
        "x6の2次元配列で3行目の4列目の値を出力してください"
      ]
    },
    {
      "cell_type": "code",
      "metadata": {
        "collapsed": true,
        "id": "2jpoS52nUDet"
      },
      "source": [
        "# Enter your code here"
      ],
      "execution_count": null,
      "outputs": []
    },
    {
      "cell_type": "markdown",
      "metadata": {
        "id": "SNTe1k2mUDev"
      },
      "source": [
        "## ロジックを組むためのブロック\n",
        "\n",
        "* forループ\n",
        "* if~ else~\n",
        "* whileループ"
      ]
    },
    {
      "cell_type": "markdown",
      "metadata": {
        "id": "D9PjUc-4UDew"
      },
      "source": [
        "### forループ\n",
        "* forループとは配列などから1つずつ要素を取り出していきます。\n",
        "* 例として0~10の数字が入った配列aがあるとします。これらの数値にそれぞれ10倍した数値をbに格納して出力します。"
      ]
    },
    {
      "cell_type": "code",
      "metadata": {
        "id": "-5GPovRjUDex"
      },
      "source": [
        "a = [0,1,2,3,100,5,90,7,8,89,10]\n",
        "for i in a:\n",
        "    b = i * 10\n",
        "    print(b)"
      ],
      "execution_count": null,
      "outputs": []
    },
    {
      "cell_type": "markdown",
      "metadata": {
        "id": "licMiMMXUDez"
      },
      "source": [
        "aの累計を求めたい場合、どうしたら良いでしょうか？"
      ]
    },
    {
      "cell_type": "code",
      "metadata": {
        "id": "pVoR8QbxUDez"
      },
      "source": [
        "a = [0,1,2,3,100,5,90,7,8,89,10]\n",
        "b = 0\n",
        "for i in a:\n",
        "    b = b + i\n",
        "    print(b)"
      ],
      "execution_count": null,
      "outputs": []
    },
    {
      "cell_type": "code",
      "metadata": {
        "id": "EjXYDcXyUDe1"
      },
      "source": [
        "a = [0,1,2,3,100,5,90,7,8,89,10]\n",
        "b = 0\n",
        "for i in a:\n",
        "    b += i  #こんな書き方もできます\n",
        "    print(b)"
      ],
      "execution_count": null,
      "outputs": []
    },
    {
      "cell_type": "markdown",
      "metadata": {
        "id": "-mQ11pOjUDe2"
      },
      "source": [
        "### if ~else\n",
        "* if ~ elseはある条件に従うときに特定の処理を使ったり、処理を分岐させる際に使用する\n",
        "* ここでは、配列aから1つずつ数値を取り出し、偶数は配列even_numbersに格納、奇数は配列odd_numbersに格納します。"
      ]
    },
    {
      "cell_type": "code",
      "metadata": {
        "id": "Ue47EfnoUDe3"
      },
      "source": [
        "a = [0,1,2,3,4,5]\n",
        "for i in a:\n",
        "    if i%3==2:\n",
        "        print(i)"
      ],
      "execution_count": null,
      "outputs": []
    },
    {
      "cell_type": "code",
      "metadata": {
        "id": "ZBbic90EUDe4"
      },
      "source": [
        "a = [0,1,2,3,4,5,6,7,8,9,10]\n",
        "#偶数の値を格納するための空っぽのリスト\n",
        "even_numbers = []\n",
        "\n",
        "#奇数の値を格納するための空っぽのリスト\n",
        "odd_numbers = []\n",
        "\n",
        "for i in a:\n",
        "    if i%2==0:\n",
        "        even_numbers.append(i)\n",
        "    else:\n",
        "        odd_numbers.append(i)"
      ],
      "execution_count": null,
      "outputs": []
    },
    {
      "cell_type": "code",
      "metadata": {
        "id": "m27cqAvoUDe6"
      },
      "source": [
        "even_numbers"
      ],
      "execution_count": null,
      "outputs": []
    },
    {
      "cell_type": "code",
      "metadata": {
        "id": "8dan_0u_UDe8"
      },
      "source": [
        "odd_numbers"
      ],
      "execution_count": null,
      "outputs": []
    },
    {
      "cell_type": "markdown",
      "metadata": {
        "id": "7Wzx0GUaUDe-"
      },
      "source": [
        "### インデックスでforループを回すときの必須アイテム rangeの使い方"
      ]
    },
    {
      "cell_type": "markdown",
      "metadata": {
        "id": "lW9NqfvyUDe-"
      },
      "source": [
        "range与えた入力の範囲を1つずつカウントアップするときにforループと一緒に使うアイテムです"
      ]
    },
    {
      "cell_type": "code",
      "metadata": {
        "id": "pZppUTJZUDe_"
      },
      "source": [
        "range(10)"
      ],
      "execution_count": null,
      "outputs": []
    },
    {
      "cell_type": "code",
      "metadata": {
        "id": "L4GKRHp4UDfB"
      },
      "source": [
        "for i in range(10):\n",
        "    print(i)"
      ],
      "execution_count": null,
      "outputs": []
    },
    {
      "cell_type": "markdown",
      "metadata": {
        "id": "wXK4so8SUDfC"
      },
      "source": [
        "一般的な使い方は配列にインデックスでアクセスしたい場合です。\n",
        "例えば、奇数番目だけ出力したい場合"
      ]
    },
    {
      "cell_type": "code",
      "metadata": {
        "id": "hWEZ6hduUDfC"
      },
      "source": [
        "a = [0,1,2,3,4,5,6,7,8,9,10]\n",
        "for i in range(len(a)):\n",
        "    if i%2==1:\n",
        "        print(a[i])"
      ],
      "execution_count": null,
      "outputs": []
    },
    {
      "cell_type": "markdown",
      "metadata": {
        "id": "HTpu6SRtUDfF"
      },
      "source": [
        "r複数の配列を同時に処理したい場合もrangeを使えば、簡単にできます。\n",
        "\n",
        "例えば、同じ長さの配列 aとbがあった場合、それぞれの要素の足し算をしたいとします。"
      ]
    },
    {
      "cell_type": "code",
      "metadata": {
        "collapsed": true,
        "id": "D1dPQr2GUDfG"
      },
      "source": [
        "a = [1,2,3,4,5]\n",
        "b = [-5,4,-3,-2,1]"
      ],
      "execution_count": null,
      "outputs": []
    },
    {
      "cell_type": "code",
      "metadata": {
        "id": "MRIGpnDbUDfI"
      },
      "source": [
        "result = []\n",
        "for i in range(len(a)):\n",
        "    c = a[i] + b[i]\n",
        "    result.append(c)\n",
        "result"
      ],
      "execution_count": null,
      "outputs": []
    },
    {
      "cell_type": "markdown",
      "metadata": {
        "id": "3tHt5u_pUDfK"
      },
      "source": [
        "resultの中で最小の値と、そのインデックスを取得するにはどうしたら良いでしょうか？\n",
        "\n",
        "最小の値をとるときはmin関数を使います（ちなみに最大はmaxです）"
      ]
    },
    {
      "cell_type": "code",
      "metadata": {
        "id": "nZjD75_3UDfK"
      },
      "source": [
        "min(result)"
      ],
      "execution_count": null,
      "outputs": []
    },
    {
      "cell_type": "markdown",
      "metadata": {
        "id": "S8mpS0S3UDfM"
      },
      "source": [
        "### Q4: 最小のインデックスを探そう\n",
        "上記のresultの中で最小の値を探す方法を探しましょう（もちろん、目で見て数えるのではなく、プログラムにやらせてください）"
      ]
    },
    {
      "cell_type": "code",
      "metadata": {
        "collapsed": true,
        "id": "258yNuQ-UDfM"
      },
      "source": [
        "# Enter your code here"
      ],
      "execution_count": null,
      "outputs": []
    },
    {
      "cell_type": "markdown",
      "metadata": {
        "id": "xPmlgvG-UDfO"
      },
      "source": [
        "### Q5: 5!を計算してみましょう\n",
        "5! = 5x4x3x2x1 ですが、これをrangeを使って計算してみましょう。\n",
        "ヒントは、range(5, 0, -1)とすると、5,4,3,2,1とカウントダウンをするのを使います。"
      ]
    },
    {
      "cell_type": "code",
      "metadata": {
        "collapsed": true,
        "id": "0RNAtFe5UDfP"
      },
      "source": [
        "# Enter your code here"
      ],
      "execution_count": null,
      "outputs": []
    },
    {
      "cell_type": "markdown",
      "metadata": {
        "id": "FGdcTIz_UDfR"
      },
      "source": [
        "### whileループ\n",
        "* whileループは条件を満たすまで繰り返し処理を行うものです。そのため、気軽にやって無限ループになると困ります。\n",
        "* 今回の例は、1~100までの整数の乱数を発生させ、偶数10個取得するまで繰り返します。得られた偶数をeven_numbersというリストに格納します。"
      ]
    },
    {
      "cell_type": "markdown",
      "metadata": {
        "id": "XFy15qKcUDfS"
      },
      "source": [
        "### (参考) 乱数を発生させるために、randomライブラリをimportします"
      ]
    },
    {
      "cell_type": "code",
      "metadata": {
        "id": "10_Zck4fUDfU"
      },
      "source": [
        "import random\n",
        "random.randint(1,100)"
      ],
      "execution_count": null,
      "outputs": []
    },
    {
      "cell_type": "markdown",
      "metadata": {
        "id": "7ljyo5KhUDfX"
      },
      "source": [
        "偶数だけの乱数を生成したい場合は、以下のように書けます"
      ]
    },
    {
      "cell_type": "code",
      "metadata": {
        "id": "xpfPpv-MUDfY"
      },
      "source": [
        "#結果を格納するために、空っぽのリストを用意します。\n",
        "even_numbers = []\n",
        "\n",
        "#生成した個数を数えるためにカウンターを用意します。\n",
        "counter = 0\n",
        "\n",
        "\n",
        "while  counter < 10:\n",
        "    #1~100の整数の乱数を生成します\n",
        "    rand_num = random.randint(1,100)\n",
        "\n",
        "    #もし2で割り切れる = 偶数であれば、even_numbersに追加して、カウンターを1増やします\n",
        "    if rand_num%2 == 0:\n",
        "        even_numbers.append(rand_num)\n",
        "        counter += 1\n",
        "\n",
        "even_numbers"
      ],
      "execution_count": null,
      "outputs": []
    },
    {
      "cell_type": "markdown",
      "metadata": {
        "id": "18x65yOmUDfZ"
      },
      "source": [
        "### Q6: 1~100の間で3の倍数の乱数を20個生成してください"
      ]
    },
    {
      "cell_type": "code",
      "metadata": {
        "collapsed": true,
        "id": "4MzmqVVuUDfa"
      },
      "source": [
        "#Enter your code here"
      ],
      "execution_count": null,
      "outputs": []
    },
    {
      "cell_type": "markdown",
      "metadata": {
        "id": "JjQhUjTjUDfb"
      },
      "source": [
        "## データ型について\n",
        "ネイティブのデータ型は以下の通り\n",
        "* 整数型(int)\n",
        "* 小数点型(float)\n",
        "* 文字型(str)\n",
        "* ブール型"
      ]
    },
    {
      "cell_type": "code",
      "metadata": {
        "id": "DqIvwm9kUDfb"
      },
      "source": [
        "type(10)"
      ],
      "execution_count": null,
      "outputs": []
    },
    {
      "cell_type": "code",
      "metadata": {
        "id": "qXmde4zOUDfe"
      },
      "source": [
        "type(0.67)"
      ],
      "execution_count": null,
      "outputs": []
    },
    {
      "cell_type": "code",
      "metadata": {
        "id": "J-W2jFXsUDfg"
      },
      "source": [
        "type(\"こんにちは\")"
      ],
      "execution_count": null,
      "outputs": []
    },
    {
      "cell_type": "code",
      "metadata": {
        "id": "xS-_U-ySUDfh"
      },
      "source": [
        "type(True)"
      ],
      "execution_count": null,
      "outputs": []
    },
    {
      "cell_type": "code",
      "metadata": {
        "id": "U4L6USi7UDfi"
      },
      "source": [
        "if 10 == 10:\n",
        "    print(\"同じ\")\n",
        "else:\n",
        "    print(\"違う\")"
      ],
      "execution_count": null,
      "outputs": []
    },
    {
      "cell_type": "markdown",
      "metadata": {
        "id": "ycrKLUprUDfk"
      },
      "source": [
        "## 関数の書き方\n",
        "プログラミングでいう関数は、処理のまとまりです。数学の関数と同じように、インプット(引数と呼んだりします）を定義し、アウトプット（返り値)までの処理を記述し、それをひとまとまりの処理として定義します。"
      ]
    },
    {
      "cell_type": "code",
      "metadata": {
        "id": "7bKH7qVLUDfk"
      },
      "source": [
        "def my_func(x, a):\n",
        "    y = 2*x + a\n",
        "    return y"
      ],
      "execution_count": null,
      "outputs": []
    },
    {
      "cell_type": "code",
      "metadata": {
        "id": "X6vRZdRFUDfl"
      },
      "source": [
        "my_func(x=5, a=30)"
      ],
      "execution_count": null,
      "outputs": []
    },
    {
      "cell_type": "markdown",
      "metadata": {
        "id": "hzmAmr4oUDfm"
      },
      "source": [
        "引数の初期値を設定することができます"
      ]
    },
    {
      "cell_type": "code",
      "metadata": {
        "id": "w6qj7be2UDfn"
      },
      "source": [
        "def my_func(x=5, a=5):\n",
        "    y = 2*x + a\n",
        "    return y"
      ],
      "execution_count": null,
      "outputs": []
    },
    {
      "cell_type": "code",
      "metadata": {
        "id": "56_0HwNoUDfo"
      },
      "source": [
        "my_func()"
      ],
      "execution_count": null,
      "outputs": []
    },
    {
      "cell_type": "markdown",
      "metadata": {
        "id": "jufUvalcUDfp"
      },
      "source": [
        "### Q7. 2つのリストの合計を出力する関数を作りましょう\n",
        "以下のv1とv2をそれぞれの要素を合計して新しいリストをforループを使って、作成してください。\n",
        "期待する結果は、[3,7, 11, 15, 19]　です。"
      ]
    },
    {
      "cell_type": "code",
      "metadata": {
        "id": "9QuJT0g3UDfq"
      },
      "source": [
        "v1 = [2, 4 , 6, 8, 10]\n",
        "v2 = [1, 3,  5, 7,  9]"
      ],
      "execution_count": null,
      "outputs": []
    },
    {
      "cell_type": "code",
      "metadata": {
        "collapsed": true,
        "id": "d6JC-H0qUDft"
      },
      "source": [
        "def list_add(v1, v2):\n",
        "    # Enter your code here\n",
        "    pass"
      ],
      "execution_count": null,
      "outputs": []
    },
    {
      "cell_type": "markdown",
      "metadata": {
        "id": "P9cqof6lUDfu"
      },
      "source": [
        "## アルゴリズム入門"
      ]
    },
    {
      "cell_type": "markdown",
      "metadata": {
        "id": "uAFFvxj1UDfu"
      },
      "source": [
        "アルゴリズムとは、何かの問題を解くための手続きです。同じ問題でも、いろいろな解き方があり、効率の良さ=答えが出るまでの時間が違ったり、必要になるコンピューターのスペックが違ったりします。ここでは、アルゴリズム101とも言える、ソートについて考えてみます。\n",
        "\n",
        "### ソートとは\n",
        "ソートとは、並び替えです。例えば、\n",
        "\n",
        "[5,3,1,2,4] という配列を、[1,2,3,4,5]と昇順にしたり、[5,4,3,2,1]と降順にしたりすることです。\n",
        "\n",
        "多くの場合、プログラミング言語のビルトイン関数があったり、ライブラリがあったりします。\n",
        "Pythonにもsorted関数があります。"
      ]
    },
    {
      "cell_type": "code",
      "metadata": {
        "id": "Aq2CgMugUDfv"
      },
      "source": [
        "a = [5,3,1,2,4]\n",
        "sorted(a)"
      ],
      "execution_count": null,
      "outputs": []
    },
    {
      "cell_type": "markdown",
      "metadata": {
        "id": "zwM5htQmUDfw"
      },
      "source": [
        "では、裏側ではどのように行われているのでしょうか？\n",
        "\n",
        "ソートアルゴリズムはいくつかありますが、その中でももっとも簡単なバブルソートを紹介します。\n",
        "\n",
        "バブルソートは、隣り合う要素を比較して、並び替えたい方向と、大小関係が逆であれば、入れ替えていくアルゴリズムです。\n",
        "\n",
        "以下のようなリストがあり、昇順にしたい場合\n",
        "\n",
        "[5,3,1,2,4]\n",
        "\n",
        "一番左の5に着目します。5と、その隣の3を比較すると、\n",
        "\n",
        "[<b>3,5</b>,1,2,4]\n",
        "\n",
        "次に5, 1を比べます。ここでも逆転していますので、1,5に交換します。\n",
        "\n",
        "[3,<b>1,5</b>,2,4]\n",
        "\n",
        "次に5, 2を比べます。ここでも逆転していますので、2,5に交換します。\n",
        "\n",
        "[3,1,<b>2,5</b>,4]\n",
        "\n",
        "最後に5と4を比べます。\n",
        "\n",
        "[3,1,2,<b>4,5</b>]\n",
        "\n",
        "5は一番右まできましたね。\n",
        "上記をコードで書くと、以下のようになります。"
      ]
    },
    {
      "cell_type": "code",
      "metadata": {
        "id": "cI0bwT6cUDfx"
      },
      "source": [
        "a = [5,3,1,2,4]\n",
        "for i in range(0, len(a)-1):\n",
        "    if a[i] > a[i+1]:\n",
        "        b = a[i]\n",
        "        c = a[i+1]\n",
        "        a[i] = c\n",
        "        a[i+1] = b\n",
        "a"
      ],
      "execution_count": null,
      "outputs": []
    },
    {
      "cell_type": "markdown",
      "metadata": {
        "id": "NevQ1rbUUDfz"
      },
      "source": [
        "これをなんども繰り返すと、最終的には[1,2,3,4,5]とソートした状態になります。"
      ]
    }
  ]
}