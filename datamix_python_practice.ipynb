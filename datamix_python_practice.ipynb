{
  "cells": [
    {
      "cell_type": "markdown",
      "metadata": {
        "id": "view-in-github",
        "colab_type": "text"
      },
      "source": [
        "<a href=\"https://colab.research.google.com/github/senpi/kenshu_phython/blob/main/datamix_python_practice.ipynb\" target=\"_parent\"><img src=\"https://colab.research.google.com/assets/colab-badge.svg\" alt=\"Open In Colab\"/></a>"
      ]
    },
    {
      "cell_type": "markdown",
      "metadata": {
        "id": "PYXshbWTPP4n"
      },
      "source": [
        "# Python入門\n",
        "\n",
        "copyright 2019 DataMix Co., Ltd.\n",
        "\n",
        "## Pythonコーディングテスト練習問題"
      ]
    },
    {
      "cell_type": "markdown",
      "metadata": {
        "id": "xW3I2bZUPP4o"
      },
      "source": [
        "## Q1  文字列の結合\n",
        "以下のPythonコードを実行した場合の結果を選びなさい。\n",
        "\n",
        "1. 4\n",
        "2. 4 おはよう\n",
        "3. 9 おはようございます\n",
        "4. 9"
      ]
    },
    {
      "cell_type": "code",
      "execution_count": null,
      "metadata": {
        "id": "OfDfT9unPP4o"
      },
      "outputs": [],
      "source": [
        "a = 'おはよう'\n",
        "b = 'ございます'\n",
        "c = len(a) + len(b)\n",
        "d = a + b\n",
        "print(c, d)"
      ]
    },
    {
      "cell_type": "markdown",
      "metadata": {
        "id": "dPS-PcuxPP4p"
      },
      "source": [
        "## Q2  データ型\n",
        "a = [1,1,2,2,3,4,5]というリストを集合(set)型にした場合、以下のうちどの結果になりますか？\n",
        "\n",
        "1. {1, 1, 2, 2, 3, 4, 5}\n",
        "2. {1, 2, 3, 4, 5}\n",
        "3. {1, 2, 3}\n",
        "4. 上記いずれでもない"
      ]
    },
    {
      "cell_type": "markdown",
      "metadata": {
        "id": "jLsTAR1UPP4p"
      },
      "source": [
        "## Q3  文字列の偶奇の違いにより処理を変える\n",
        "以下のような名前の配列を与えられた時、名前が奇数の長さのときは「Good night」、偶数のときは「Good morning」という挨拶の配列を返す関数を作ってください。\n",
        "例:\n",
        "\n",
        "例)\n",
        "\n",
        "入力: 　['Myung', 'Petrucci', 'LaBrie', 'Rudess']\n",
        "\n",
        "出力: 「'Good night',  'Good morning',  'Good morning',  'Good morning'」"
      ]
    },
    {
      "cell_type": "code",
      "execution_count": null,
      "metadata": {
        "id": "lZZGhjz5PP4p"
      },
      "outputs": [],
      "source": [
        "def greeting(names):\n",
        "    result = []\n",
        "    # ここにコードを書いてください。\n",
        "    # 戻り値はリストにしてください。\n",
        "    return result"
      ]
    },
    {
      "cell_type": "code",
      "execution_count": null,
      "metadata": {
        "id": "nHdzhd06PP4p"
      },
      "outputs": [],
      "source": [
        "names = [\"Myung\", \"Petrucci\", \"LaBrie\", \"Rudess\"]\n",
        "greeting(names=names)"
      ]
    },
    {
      "cell_type": "markdown",
      "metadata": {
        "id": "LEAHRTn1PP4p"
      },
      "source": [
        "## Q4 偶数だけを取り出す関数\n",
        "与えられた数字のリストから偶数だけを取り出し、偶数だけのリストを返す関数を書いてください。\n",
        "\n",
        "例)\n",
        "\n",
        "入力: [1,2,3,4,5,6,7,8,9,10]\n",
        "\n",
        "出力: [2,4,6,8,10]"
      ]
    },
    {
      "cell_type": "code",
      "execution_count": null,
      "metadata": {
        "id": "EEQDMiNTPP4p"
      },
      "outputs": [],
      "source": [
        "def get_even_number(numbers):\n",
        "    result = []\n",
        "    # ここにコードを書いてください。\n",
        "    # 戻り値は配列にしてください。\n",
        "    return result"
      ]
    },
    {
      "cell_type": "code",
      "execution_count": null,
      "metadata": {
        "id": "rhkB6957PP4p"
      },
      "outputs": [],
      "source": [
        "numbers = [1,2,3,4,5,6,7,8,9,10]\n",
        "get_even_number(numbers=numbers)"
      ]
    },
    {
      "cell_type": "markdown",
      "metadata": {
        "id": "5da6ZiLAPP4q"
      },
      "source": [
        "## Q5  面積が一番大きい長方形の<u>インデックス</u>を返してください。\n",
        "複数の長方形の短辺と長辺を与えたとき、一番面積が大きい長方形の<u>インデックス</u>を返してください。\n",
        "\n",
        "インデックスとは行番号（Pythonは0から始まるのをお忘れなく！）のことです。\n",
        "\n",
        "また、各要素の左側は短辺、右側は長辺です（以下のrectsのリストの1行目ですと、2.1が短辺、4.1が長辺となります）。"
      ]
    },
    {
      "cell_type": "code",
      "execution_count": null,
      "metadata": {
        "id": "H_wdFVqZPP4q"
      },
      "outputs": [],
      "source": [
        "rects = [\n",
        "   [2.1, 4.1],\n",
        "   [0.5, 1.1],\n",
        "   [2.5, 3.2]\n",
        "]"
      ]
    },
    {
      "cell_type": "code",
      "execution_count": null,
      "metadata": {
        "id": "ipOa4piUPP4q"
      },
      "outputs": [],
      "source": [
        "def get_largest_rect(rects):\n",
        "    #returnの後のNoneは消して、ここにコードを書いてください。\n",
        "    #戻り値は、数字（インデックス）であることに注意しましょう。（面積ではありません）\n",
        "    return None"
      ]
    },
    {
      "cell_type": "code",
      "execution_count": null,
      "metadata": {
        "id": "QIjytGwYPP4q"
      },
      "outputs": [],
      "source": [
        "get_largest_rect(rects=rects)"
      ]
    },
    {
      "cell_type": "markdown",
      "metadata": {
        "id": "s5RKxAIEPP4q"
      },
      "source": [
        "# Q6  コインが表が出る確率を求めよう\n",
        "\n",
        "表が出る確率が10%（ということは裏が出る確率は90%)のコインがあります。\n",
        "\n",
        "コインをN回投げたときに、表がx回出る確率を求めてください。\n",
        "\n",
        "答えは、小数点第5位を四捨五入して、第4位まで答えてください。例：0.12345 であれば、0.1235にしてください。\n",
        "\n",
        "### ヒント1: 確率を求める数式は以下のとおりです\n",
        "\n",
        "$表がx回出る確率 =  \\frac{N!}{(N-x)!  x!}0.1^{x}0.9^{N-x} $\n",
        "\n",
        "### ヒント2: x乗をPythonの書き方には、**と書きます\n",
        "`(0.1**x)`\n",
        "\n",
        "\n",
        "### ヒント3: Nの階乗を求めるときは以下のように書きます\n",
        "\n",
        " ``` num = 1\n",
        " for i in range(N, 0, -1):\n",
        "    num = num * i\n",
        " ```\n",
        "\n",
        " ### ヒント4: 小数点第5位を四捨五入する場合は、以下のように書きます\n",
        "\n",
        " `round(0.12345, 4)`\n"
      ]
    },
    {
      "cell_type": "code",
      "execution_count": null,
      "metadata": {
        "id": "mG_vfzNyPP4q"
      },
      "outputs": [],
      "source": [
        "def coin_toss(N, x):\n",
        "    #returnの後のNoneは消して、ここにコードを書いてください。\n",
        "    #戻り値は、確率であることに注意しましょう。\n",
        "    return None"
      ]
    },
    {
      "cell_type": "code",
      "execution_count": null,
      "metadata": {
        "id": "TZJzPu8rPP4q"
      },
      "outputs": [],
      "source": [
        "coin_toss(N=10, x=4)"
      ]
    },
    {
      "cell_type": "markdown",
      "metadata": {
        "id": "GmfWglr6PP4q"
      },
      "source": [
        "## Q7: 数字を並び替えよう\n",
        "\n",
        "ソートアルゴリズムはいくつかありますが、その中で<a href='http://wa3.i-3-i.info/word14886.html'>バブルソート</a>を実装してみてください。\n",
        "\n",
        "アルゴリズムは簡単で隣り合う数字を比べて右の数字より左の数字が大きければ入れ替えていき、昇順になるまで繰り返します。\n",
        "\n",
        "例は以下のとおりです。\n",
        "\n",
        "\n",
        "\n",
        "アルゴリズムの動き方)\n",
        "入力を num_list =  [5,4,3,2,1] とします。最終的に欲しい結果は、[1,2,3,4,5]です。\n",
        "\n",
        "では、アルゴリズムの動きを見ていきましょう。\n",
        "\n",
        "1. １巡目では、まず、5,4 のペアを比べて評価します。\n",
        "2. すると、左の数字のほうが右の数字よりも大きいので入れ替えます。この時点で[4,5,3,2,1]になります。\n",
        "3. 続いて、[5,3]を比べます。ここでも入れ替えます。\n",
        "上記の1から3のステップを繰り返し1順目が終了します。すると、[4,3,2,1,5]になります。\n",
        "\n",
        "2巡目は、[4,3]をまず比較して、[3,4]に入れ替えます。\n",
        "\n",
        "同じように、左から右に配列の要素を見ていきながら繰り返し2巡目が終了します。"
      ]
    },
    {
      "cell_type": "code",
      "execution_count": null,
      "metadata": {
        "id": "nVtIMyA2PP4q"
      },
      "outputs": [],
      "source": [
        "num_list = [5,4,3,2,1]"
      ]
    },
    {
      "cell_type": "code",
      "execution_count": null,
      "metadata": {
        "id": "AJk50VprPP4r"
      },
      "outputs": [],
      "source": [
        "def bubble_sort(num_list):\n",
        "    # バブルソートを実装してリストの形で出力してください。\n",
        "    return num_list"
      ]
    },
    {
      "cell_type": "code",
      "execution_count": null,
      "metadata": {
        "id": "zZTYbAYFPP4r"
      },
      "outputs": [],
      "source": [
        "bubble_sort(num_list=num_list)"
      ]
    },
    {
      "cell_type": "code",
      "execution_count": null,
      "metadata": {
        "id": "pdTl9bIbPP4r"
      },
      "outputs": [],
      "source": []
    }
  ],
  "metadata": {
    "kernelspec": {
      "display_name": "Python 3",
      "language": "python",
      "name": "python3"
    },
    "language_info": {
      "codemirror_mode": {
        "name": "ipython",
        "version": 3
      },
      "file_extension": ".py",
      "mimetype": "text/x-python",
      "name": "python",
      "nbconvert_exporter": "python",
      "pygments_lexer": "ipython3",
      "version": "3.6.8"
    },
    "colab": {
      "provenance": [],
      "include_colab_link": true
    }
  },
  "nbformat": 4,
  "nbformat_minor": 0
}